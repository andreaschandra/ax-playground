{
 "cells": [
  {
   "cell_type": "code",
   "execution_count": 1,
   "metadata": {},
   "outputs": [],
   "source": [
    "# create dataset and model sklearn\n",
    "import numpy as np\n",
    "from sklearn.datasets import make_classification\n",
    "from sklearn.preprocessing import OneHotEncoder\n",
    "from sklearn.metrics import accuracy_score"
   ]
  },
  {
   "cell_type": "code",
   "execution_count": 2,
   "metadata": {},
   "outputs": [],
   "source": [
    "from sklearn.ensemble import RandomForestClassifier"
   ]
  },
  {
   "cell_type": "code",
   "execution_count": 3,
   "metadata": {},
   "outputs": [],
   "source": [
    "def fitting_model(parameters):\n",
    "    N_SAMPLES = 1000\n",
    "    x, y = make_classification(n_samples=N_SAMPLES, n_features=100, n_classes=2, random_state=123)\n",
    "    \n",
    "    n_estimators = parameters.get('n_estimators')\n",
    "    max_depth = parameters.get('max_depth')\n",
    "    min_samples_split = parameters.get('min_samples_split')\n",
    "    min_samples_leaf = parameters.get('min_samples_leaf')\n",
    "    \n",
    "    rfc = RandomForestClassifier(n_estimators=n_estimators,\n",
    "                                 max_depth=max_depth,\n",
    "                                 min_samples_split=min_samples_split,\n",
    "                                 min_samples_leaf=min_samples_leaf)\n",
    "    rfc.fit(x, y)\n",
    "    y_pred_proba = rfc.predict_proba(x)\n",
    "    \n",
    "    y_pred = y_pred_proba.argmax(1)\n",
    "    print(\"Accuracy: \", accuracy_score(y, y_pred))\n",
    "\n",
    "    # evaluate\n",
    "    y_onehot = OneHotEncoder().fit_transform(y.reshape(-1, 1))\n",
    "    loss = np.power(y_onehot.toarray() - y_pred_proba, 2)\n",
    "    mse_loss = np.mean(loss)\n",
    "    sem = loss.std() / np.sqrt(N_SAMPLES)\n",
    "    \n",
    "    return mse_loss, sem"
   ]
  },
  {
   "cell_type": "code",
   "execution_count": 4,
   "metadata": {},
   "outputs": [],
   "source": [
    "from ax.core.search_space import SearchSpace\n",
    "from ax import RangeParameter, ParameterType"
   ]
  },
  {
   "cell_type": "code",
   "execution_count": 5,
   "metadata": {},
   "outputs": [],
   "source": [
    "n_estimators = RangeParameter(name=\"n_estimators\",\n",
    "                               parameter_type=ParameterType.INT,\n",
    "                               lower=10, \n",
    "                               upper=100, \n",
    "                               log_scale=False)\n",
    "\n",
    "max_depth = RangeParameter(name=\"max_depth\",\n",
    "                           parameter_type=ParameterType.INT,\n",
    "                           lower=1, upper=5, \n",
    "                           log_scale=False)\n",
    "\n",
    "min_samples_split = RangeParameter(name=\"min_samples_split\",\n",
    "                                   parameter_type=ParameterType.INT,\n",
    "                                   lower=2,\n",
    "                                   upper=5,\n",
    "                                   log_scale=False)\n",
    "\n",
    "min_samples_leaf = RangeParameter(name=\"min_samples_leaf\",\n",
    "                                  parameter_type=ParameterType.INT,\n",
    "                                  lower=1,\n",
    "                                  upper=5,\n",
    "                                  log_scale=False)\n",
    "\n",
    "search_space = SearchSpace([n_estimators, max_depth, min_samples_split, min_samples_leaf])"
   ]
  },
  {
   "cell_type": "code",
   "execution_count": 6,
   "metadata": {},
   "outputs": [],
   "source": [
    "from ax.modelbridge.factory import get_sobol"
   ]
  },
  {
   "cell_type": "code",
   "execution_count": 7,
   "metadata": {},
   "outputs": [],
   "source": [
    "m = get_sobol(search_space)\n",
    "gr = m.gen(n=10)"
   ]
  },
  {
   "cell_type": "code",
   "execution_count": null,
   "metadata": {},
   "outputs": [],
   "source": [
    "# for params in gr.arms:\n",
    "#     break\n",
    "\n",
    "# params.parameters\n",
    "\n",
    "# params.parameters.get('learning_rate')"
   ]
  },
  {
   "cell_type": "code",
   "execution_count": 8,
   "metadata": {},
   "outputs": [],
   "source": [
    "# runner\n",
    "from ax import Runner\n",
    "\n",
    "class ModelRunner(Runner):\n",
    "    def __init__(self, params):\n",
    "        self.params = params\n",
    "\n",
    "    def run(self, trial):\n",
    "        print(trial)\n",
    "        run_metadata = evaluate(trial.arm.parameters)\n",
    "        return run_metadata\n",
    "\n",
    "    @property\n",
    "    def staging_required(self):\n",
    "        return False"
   ]
  },
  {
   "cell_type": "code",
   "execution_count": 9,
   "metadata": {},
   "outputs": [],
   "source": [
    "from ax.core.simple_experiment import SimpleExperiment"
   ]
  },
  {
   "cell_type": "code",
   "execution_count": 10,
   "metadata": {},
   "outputs": [],
   "source": [
    "def evaluate(parameters):\n",
    "    return {\"objective\": fitting_model(parameters)}"
   ]
  },
  {
   "cell_type": "code",
   "execution_count": 12,
   "metadata": {},
   "outputs": [],
   "source": [
    "exp = SimpleExperiment(\n",
    "    name=\"simple_experiment\",\n",
    "    search_space=search_space,\n",
    "    evaluation_function=evaluate,\n",
    "    objective_name=\"objective\",\n",
    "    minimize=True\n",
    ")"
   ]
  },
  {
   "cell_type": "code",
   "execution_count": 13,
   "metadata": {},
   "outputs": [],
   "source": [
    "exp.runner = ModelRunner(search_space)"
   ]
  },
  {
   "cell_type": "code",
   "execution_count": 14,
   "metadata": {
    "scrolled": true
   },
   "outputs": [
    {
     "name": "stdout",
     "output_type": "stream",
     "text": [
      "Trial(experiment_name='simple_experiment', index=0, status=TrialStatus.CANDIDATE, arm=Arm(name='0_0', parameters={'n_estimators': 90, 'max_depth': 2, 'min_samples_split': 2, 'min_samples_leaf': 2}))\n",
      "Accuracy:  0.979\n",
      "Trial(experiment_name='simple_experiment', index=1, status=TrialStatus.CANDIDATE, arm=Arm(name='1_0', parameters={'n_estimators': 77, 'max_depth': 3, 'min_samples_split': 3, 'min_samples_leaf': 5}))\n",
      "Accuracy:  0.99\n",
      "Trial(experiment_name='simple_experiment', index=2, status=TrialStatus.CANDIDATE, arm=Arm(name='2_0', parameters={'n_estimators': 25, 'max_depth': 3, 'min_samples_split': 5, 'min_samples_leaf': 2}))\n",
      "Accuracy:  0.974\n",
      "Trial(experiment_name='simple_experiment', index=3, status=TrialStatus.CANDIDATE, arm=Arm(name='3_0', parameters={'n_estimators': 13, 'max_depth': 4, 'min_samples_split': 2, 'min_samples_leaf': 3}))\n",
      "Accuracy:  0.983\n",
      "Trial(experiment_name='simple_experiment', index=4, status=TrialStatus.CANDIDATE, arm=Arm(name='4_0', parameters={'n_estimators': 66, 'max_depth': 2, 'min_samples_split': 4, 'min_samples_leaf': 2}))\n",
      "Accuracy:  0.969\n",
      "Trial(experiment_name='simple_experiment', index=5, status=TrialStatus.CANDIDATE, arm=Arm(name='5_0', parameters={'n_estimators': 78, 'max_depth': 5, 'min_samples_split': 5, 'min_samples_leaf': 4}))\n",
      "Accuracy:  0.991\n",
      "Trial(experiment_name='simple_experiment', index=6, status=TrialStatus.CANDIDATE, arm=Arm(name='6_0', parameters={'n_estimators': 41, 'max_depth': 1, 'min_samples_split': 3, 'min_samples_leaf': 1}))\n",
      "Accuracy:  0.925\n",
      "Trial(experiment_name='simple_experiment', index=7, status=TrialStatus.CANDIDATE, arm=Arm(name='7_0', parameters={'n_estimators': 35, 'max_depth': 3, 'min_samples_split': 5, 'min_samples_leaf': 2}))\n",
      "Accuracy:  0.981\n",
      "Trial(experiment_name='simple_experiment', index=8, status=TrialStatus.CANDIDATE, arm=Arm(name='8_0', parameters={'n_estimators': 84, 'max_depth': 3, 'min_samples_split': 3, 'min_samples_leaf': 3}))\n",
      "Accuracy:  0.977\n",
      "Trial(experiment_name='simple_experiment', index=9, status=TrialStatus.CANDIDATE, arm=Arm(name='9_0', parameters={'n_estimators': 60, 'max_depth': 4, 'min_samples_split': 2, 'min_samples_leaf': 1}))\n",
      "Accuracy:  0.997\n"
     ]
    }
   ],
   "source": [
    "for arm in gr.arms:\n",
    "    trial = exp.new_trial().add_arm(arm)\n",
    "    trial.run()"
   ]
  },
  {
   "cell_type": "code",
   "execution_count": 25,
   "metadata": {},
   "outputs": [
    {
     "data": {
      "text/plain": [
       "10"
      ]
     },
     "execution_count": 25,
     "metadata": {},
     "output_type": "execute_result"
    }
   ],
   "source": [
    "exp.num_trials"
   ]
  },
  {
   "cell_type": "code",
   "execution_count": null,
   "metadata": {},
   "outputs": [],
   "source": []
  }
 ],
 "metadata": {
  "kernelspec": {
   "display_name": "Python 3",
   "language": "python",
   "name": "python3"
  },
  "language_info": {
   "codemirror_mode": {
    "name": "ipython",
    "version": 3
   },
   "file_extension": ".py",
   "mimetype": "text/x-python",
   "name": "python",
   "nbconvert_exporter": "python",
   "pygments_lexer": "ipython3",
   "version": "3.8.5"
  }
 },
 "nbformat": 4,
 "nbformat_minor": 4
}
