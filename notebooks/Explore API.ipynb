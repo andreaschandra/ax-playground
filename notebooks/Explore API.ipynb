{
 "cells": [
  {
   "cell_type": "code",
   "execution_count": 18,
   "metadata": {},
   "outputs": [],
   "source": [
    "# create dataset and model sklearn\n",
    "import pandas as pd\n",
    "import numpy as np\n",
    "from sklearn.datasets import make_classification\n",
    "from sklearn.preprocessing import OneHotEncoder\n",
    "from sklearn.metrics import accuracy_score"
   ]
  },
  {
   "cell_type": "code",
   "execution_count": 2,
   "metadata": {},
   "outputs": [],
   "source": [
    "from sklearn.ensemble import RandomForestClassifier"
   ]
  },
  {
   "cell_type": "code",
   "execution_count": 3,
   "metadata": {},
   "outputs": [],
   "source": [
    "def fitting_model(parameters):\n",
    "    N_SAMPLES = 1000\n",
    "    x, y = make_classification(n_samples=N_SAMPLES, n_features=100, n_classes=2, random_state=123)\n",
    "    \n",
    "    n_estimators = parameters.get('n_estimators')\n",
    "    max_depth = parameters.get('max_depth')\n",
    "    min_samples_split = parameters.get('min_samples_split')\n",
    "    min_samples_leaf = parameters.get('min_samples_leaf')\n",
    "    \n",
    "    rfc = RandomForestClassifier(n_estimators=n_estimators,\n",
    "                                 max_depth=max_depth,\n",
    "                                 min_samples_split=min_samples_split,\n",
    "                                 min_samples_leaf=min_samples_leaf)\n",
    "    rfc.fit(x, y)\n",
    "    y_pred_proba = rfc.predict_proba(x)\n",
    "    \n",
    "    y_pred = y_pred_proba.argmax(1)\n",
    "    print(\"Accuracy: \", accuracy_score(y, y_pred))\n",
    "\n",
    "    # evaluate\n",
    "    y_onehot = OneHotEncoder().fit_transform(y.reshape(-1, 1))\n",
    "    loss = np.power(y_onehot.toarray() - y_pred_proba, 2)\n",
    "    mse_loss = np.mean(loss)\n",
    "    sem = loss.std() / np.sqrt(N_SAMPLES)\n",
    "    \n",
    "    return mse_loss, sem"
   ]
  },
  {
   "cell_type": "code",
   "execution_count": 4,
   "metadata": {},
   "outputs": [],
   "source": [
    "from ax.core.search_space import SearchSpace\n",
    "from ax import RangeParameter, ParameterType"
   ]
  },
  {
   "cell_type": "code",
   "execution_count": 5,
   "metadata": {},
   "outputs": [],
   "source": [
    "n_estimators = RangeParameter(name=\"n_estimators\",\n",
    "                               parameter_type=ParameterType.INT,\n",
    "                               lower=10, \n",
    "                               upper=100, \n",
    "                               log_scale=False)\n",
    "\n",
    "max_depth = RangeParameter(name=\"max_depth\",\n",
    "                           parameter_type=ParameterType.INT,\n",
    "                           lower=1, upper=5, \n",
    "                           log_scale=False)\n",
    "\n",
    "min_samples_split = RangeParameter(name=\"min_samples_split\",\n",
    "                                   parameter_type=ParameterType.INT,\n",
    "                                   lower=2,\n",
    "                                   upper=5,\n",
    "                                   log_scale=False)\n",
    "\n",
    "min_samples_leaf = RangeParameter(name=\"min_samples_leaf\",\n",
    "                                  parameter_type=ParameterType.INT,\n",
    "                                  lower=1,\n",
    "                                  upper=5,\n",
    "                                  log_scale=False)\n",
    "\n",
    "search_space = SearchSpace([n_estimators, max_depth, min_samples_split, min_samples_leaf])"
   ]
  },
  {
   "cell_type": "code",
   "execution_count": 6,
   "metadata": {},
   "outputs": [],
   "source": [
    "def evaluate(parameters):\n",
    "    return {\"objective\": fitting_model(parameters)}"
   ]
  },
  {
   "cell_type": "code",
   "execution_count": 7,
   "metadata": {},
   "outputs": [],
   "source": [
    "from ax.core.simple_experiment import SimpleExperiment"
   ]
  },
  {
   "cell_type": "code",
   "execution_count": 8,
   "metadata": {},
   "outputs": [],
   "source": [
    "exp = SimpleExperiment(\n",
    "    name=\"simple_experiment\",\n",
    "    search_space=search_space,\n",
    "    evaluation_function=evaluate,\n",
    "    objective_name=\"objective\",\n",
    "    minimize=True\n",
    ")"
   ]
  },
  {
   "cell_type": "code",
   "execution_count": 9,
   "metadata": {},
   "outputs": [],
   "source": [
    "from ax.modelbridge.registry import Models"
   ]
  },
  {
   "cell_type": "code",
   "execution_count": 10,
   "metadata": {},
   "outputs": [],
   "source": [
    "sobol = Models.SOBOL(exp.search_space)"
   ]
  },
  {
   "cell_type": "code",
   "execution_count": 11,
   "metadata": {},
   "outputs": [],
   "source": [
    "# initiallization trials\n",
    "for i in range(1):\n",
    "    exp.new_trial(generator_run=sobol.gen(1))"
   ]
  },
  {
   "cell_type": "code",
   "execution_count": 12,
   "metadata": {
    "scrolled": true
   },
   "outputs": [
    {
     "name": "stdout",
     "output_type": "stream",
     "text": [
      "Running GP+EI optimization trial 1/25...\n",
      "Accuracy:  0.966\n"
     ]
    },
    {
     "name": "stderr",
     "output_type": "stream",
     "text": [
      "[INFO 01-29 05:32:35] ax.modelbridge.transforms.standardize_y: Outcome objective is constant, within tolerance.\n"
     ]
    },
    {
     "name": "stdout",
     "output_type": "stream",
     "text": [
      "Running GP+EI optimization trial 2/25...\n",
      "Accuracy:  0.993\n",
      "Running GP+EI optimization trial 3/25...\n",
      "Accuracy:  0.988\n",
      "Running GP+EI optimization trial 4/25...\n",
      "Accuracy:  0.974\n",
      "Running GP+EI optimization trial 5/25...\n",
      "Accuracy:  0.991\n",
      "Running GP+EI optimization trial 6/25...\n",
      "Accuracy:  0.983\n",
      "Running GP+EI optimization trial 7/25...\n",
      "Accuracy:  0.995\n",
      "Running GP+EI optimization trial 8/25...\n",
      "Accuracy:  0.991\n",
      "Running GP+EI optimization trial 9/25...\n",
      "Accuracy:  0.988\n",
      "Running GP+EI optimization trial 10/25...\n",
      "Accuracy:  0.992\n",
      "Done!\n"
     ]
    }
   ],
   "source": [
    "for i in range(10):\n",
    "    print(f\"Running GP+EI optimization trial {i+1}/25...\")\n",
    "    # Reinitialize GP+EI model at each step with updated data.\n",
    "    gpei = Models.BOTORCH(experiment=exp, data=exp.eval())\n",
    "    batch = exp.new_trial(generator_run=gpei.gen(1))\n",
    "    \n",
    "print(\"Done!\")"
   ]
  },
  {
   "cell_type": "code",
   "execution_count": 19,
   "metadata": {},
   "outputs": [
    {
     "name": "stdout",
     "output_type": "stream",
     "text": [
      "Accuracy:  0.991\n"
     ]
    }
   ],
   "source": [
    "d_trial = pd.DataFrame([])\n",
    "for idx, trial in exp.trials.items():\n",
    "    trial_data = exp.eval_trial(trial)\n",
    "    d_trial = pd.concat((d_trial, trial_data.df), axis=0)    "
   ]
  },
  {
   "cell_type": "code",
   "execution_count": 20,
   "metadata": {},
   "outputs": [
    {
     "data": {
      "text/html": [
       "<div>\n",
       "<style scoped>\n",
       "    .dataframe tbody tr th:only-of-type {\n",
       "        vertical-align: middle;\n",
       "    }\n",
       "\n",
       "    .dataframe tbody tr th {\n",
       "        vertical-align: top;\n",
       "    }\n",
       "\n",
       "    .dataframe thead th {\n",
       "        text-align: right;\n",
       "    }\n",
       "</style>\n",
       "<table border=\"1\" class=\"dataframe\">\n",
       "  <thead>\n",
       "    <tr style=\"text-align: right;\">\n",
       "      <th></th>\n",
       "      <th>arm_name</th>\n",
       "      <th>metric_name</th>\n",
       "      <th>mean</th>\n",
       "      <th>sem</th>\n",
       "      <th>trial_index</th>\n",
       "    </tr>\n",
       "  </thead>\n",
       "  <tbody>\n",
       "    <tr>\n",
       "      <th>0</th>\n",
       "      <td>0_0</td>\n",
       "      <td>objective</td>\n",
       "      <td>0.193959</td>\n",
       "      <td>0.000727</td>\n",
       "      <td>0</td>\n",
       "    </tr>\n",
       "    <tr>\n",
       "      <th>0</th>\n",
       "      <td>1_0</td>\n",
       "      <td>objective</td>\n",
       "      <td>0.055459</td>\n",
       "      <td>0.001352</td>\n",
       "      <td>1</td>\n",
       "    </tr>\n",
       "    <tr>\n",
       "      <th>0</th>\n",
       "      <td>2_0</td>\n",
       "      <td>objective</td>\n",
       "      <td>0.055164</td>\n",
       "      <td>0.001709</td>\n",
       "      <td>2</td>\n",
       "    </tr>\n",
       "    <tr>\n",
       "      <th>0</th>\n",
       "      <td>3_0</td>\n",
       "      <td>objective</td>\n",
       "      <td>0.085462</td>\n",
       "      <td>0.002008</td>\n",
       "      <td>3</td>\n",
       "    </tr>\n",
       "    <tr>\n",
       "      <th>0</th>\n",
       "      <td>4_0</td>\n",
       "      <td>objective</td>\n",
       "      <td>0.069883</td>\n",
       "      <td>0.001366</td>\n",
       "      <td>4</td>\n",
       "    </tr>\n",
       "    <tr>\n",
       "      <th>0</th>\n",
       "      <td>5_0</td>\n",
       "      <td>objective</td>\n",
       "      <td>0.080039</td>\n",
       "      <td>0.001928</td>\n",
       "      <td>5</td>\n",
       "    </tr>\n",
       "    <tr>\n",
       "      <th>0</th>\n",
       "      <td>6_0</td>\n",
       "      <td>objective</td>\n",
       "      <td>0.073261</td>\n",
       "      <td>0.001405</td>\n",
       "      <td>6</td>\n",
       "    </tr>\n",
       "    <tr>\n",
       "      <th>0</th>\n",
       "      <td>7_0</td>\n",
       "      <td>objective</td>\n",
       "      <td>0.053331</td>\n",
       "      <td>0.001432</td>\n",
       "      <td>7</td>\n",
       "    </tr>\n",
       "    <tr>\n",
       "      <th>0</th>\n",
       "      <td>8_0</td>\n",
       "      <td>objective</td>\n",
       "      <td>0.094133</td>\n",
       "      <td>0.001707</td>\n",
       "      <td>8</td>\n",
       "    </tr>\n",
       "    <tr>\n",
       "      <th>0</th>\n",
       "      <td>9_0</td>\n",
       "      <td>objective</td>\n",
       "      <td>0.071654</td>\n",
       "      <td>0.001540</td>\n",
       "      <td>9</td>\n",
       "    </tr>\n",
       "    <tr>\n",
       "      <th>0</th>\n",
       "      <td>10_0</td>\n",
       "      <td>objective</td>\n",
       "      <td>0.068096</td>\n",
       "      <td>0.001352</td>\n",
       "      <td>10</td>\n",
       "    </tr>\n",
       "  </tbody>\n",
       "</table>\n",
       "</div>"
      ],
      "text/plain": [
       "  arm_name metric_name      mean       sem  trial_index\n",
       "0      0_0   objective  0.193959  0.000727            0\n",
       "0      1_0   objective  0.055459  0.001352            1\n",
       "0      2_0   objective  0.055164  0.001709            2\n",
       "0      3_0   objective  0.085462  0.002008            3\n",
       "0      4_0   objective  0.069883  0.001366            4\n",
       "0      5_0   objective  0.080039  0.001928            5\n",
       "0      6_0   objective  0.073261  0.001405            6\n",
       "0      7_0   objective  0.053331  0.001432            7\n",
       "0      8_0   objective  0.094133  0.001707            8\n",
       "0      9_0   objective  0.071654  0.001540            9\n",
       "0     10_0   objective  0.068096  0.001352           10"
      ]
     },
     "execution_count": 20,
     "metadata": {},
     "output_type": "execute_result"
    }
   ],
   "source": [
    "d_trial"
   ]
  },
  {
   "cell_type": "code",
   "execution_count": 22,
   "metadata": {},
   "outputs": [
    {
     "data": {
      "text/html": [
       "<div>\n",
       "<style scoped>\n",
       "    .dataframe tbody tr th:only-of-type {\n",
       "        vertical-align: middle;\n",
       "    }\n",
       "\n",
       "    .dataframe tbody tr th {\n",
       "        vertical-align: top;\n",
       "    }\n",
       "\n",
       "    .dataframe thead th {\n",
       "        text-align: right;\n",
       "    }\n",
       "</style>\n",
       "<table border=\"1\" class=\"dataframe\">\n",
       "  <thead>\n",
       "    <tr style=\"text-align: right;\">\n",
       "      <th></th>\n",
       "      <th>arm_name</th>\n",
       "      <th>metric_name</th>\n",
       "      <th>mean</th>\n",
       "      <th>sem</th>\n",
       "      <th>trial_index</th>\n",
       "    </tr>\n",
       "  </thead>\n",
       "  <tbody>\n",
       "    <tr>\n",
       "      <th>0</th>\n",
       "      <td>7_0</td>\n",
       "      <td>objective</td>\n",
       "      <td>0.053331</td>\n",
       "      <td>0.001432</td>\n",
       "      <td>7</td>\n",
       "    </tr>\n",
       "    <tr>\n",
       "      <th>0</th>\n",
       "      <td>2_0</td>\n",
       "      <td>objective</td>\n",
       "      <td>0.055164</td>\n",
       "      <td>0.001709</td>\n",
       "      <td>2</td>\n",
       "    </tr>\n",
       "    <tr>\n",
       "      <th>0</th>\n",
       "      <td>1_0</td>\n",
       "      <td>objective</td>\n",
       "      <td>0.055459</td>\n",
       "      <td>0.001352</td>\n",
       "      <td>1</td>\n",
       "    </tr>\n",
       "    <tr>\n",
       "      <th>0</th>\n",
       "      <td>10_0</td>\n",
       "      <td>objective</td>\n",
       "      <td>0.068096</td>\n",
       "      <td>0.001352</td>\n",
       "      <td>10</td>\n",
       "    </tr>\n",
       "    <tr>\n",
       "      <th>0</th>\n",
       "      <td>4_0</td>\n",
       "      <td>objective</td>\n",
       "      <td>0.069883</td>\n",
       "      <td>0.001366</td>\n",
       "      <td>4</td>\n",
       "    </tr>\n",
       "    <tr>\n",
       "      <th>0</th>\n",
       "      <td>9_0</td>\n",
       "      <td>objective</td>\n",
       "      <td>0.071654</td>\n",
       "      <td>0.001540</td>\n",
       "      <td>9</td>\n",
       "    </tr>\n",
       "    <tr>\n",
       "      <th>0</th>\n",
       "      <td>6_0</td>\n",
       "      <td>objective</td>\n",
       "      <td>0.073261</td>\n",
       "      <td>0.001405</td>\n",
       "      <td>6</td>\n",
       "    </tr>\n",
       "    <tr>\n",
       "      <th>0</th>\n",
       "      <td>5_0</td>\n",
       "      <td>objective</td>\n",
       "      <td>0.080039</td>\n",
       "      <td>0.001928</td>\n",
       "      <td>5</td>\n",
       "    </tr>\n",
       "    <tr>\n",
       "      <th>0</th>\n",
       "      <td>3_0</td>\n",
       "      <td>objective</td>\n",
       "      <td>0.085462</td>\n",
       "      <td>0.002008</td>\n",
       "      <td>3</td>\n",
       "    </tr>\n",
       "    <tr>\n",
       "      <th>0</th>\n",
       "      <td>8_0</td>\n",
       "      <td>objective</td>\n",
       "      <td>0.094133</td>\n",
       "      <td>0.001707</td>\n",
       "      <td>8</td>\n",
       "    </tr>\n",
       "    <tr>\n",
       "      <th>0</th>\n",
       "      <td>0_0</td>\n",
       "      <td>objective</td>\n",
       "      <td>0.193959</td>\n",
       "      <td>0.000727</td>\n",
       "      <td>0</td>\n",
       "    </tr>\n",
       "  </tbody>\n",
       "</table>\n",
       "</div>"
      ],
      "text/plain": [
       "  arm_name metric_name      mean       sem  trial_index\n",
       "0      7_0   objective  0.053331  0.001432            7\n",
       "0      2_0   objective  0.055164  0.001709            2\n",
       "0      1_0   objective  0.055459  0.001352            1\n",
       "0     10_0   objective  0.068096  0.001352           10\n",
       "0      4_0   objective  0.069883  0.001366            4\n",
       "0      9_0   objective  0.071654  0.001540            9\n",
       "0      6_0   objective  0.073261  0.001405            6\n",
       "0      5_0   objective  0.080039  0.001928            5\n",
       "0      3_0   objective  0.085462  0.002008            3\n",
       "0      8_0   objective  0.094133  0.001707            8\n",
       "0      0_0   objective  0.193959  0.000727            0"
      ]
     },
     "execution_count": 22,
     "metadata": {},
     "output_type": "execute_result"
    }
   ],
   "source": [
    "d_trial.sort_values('mean')"
   ]
  },
  {
   "cell_type": "code",
   "execution_count": null,
   "metadata": {},
   "outputs": [],
   "source": []
  }
 ],
 "metadata": {
  "kernelspec": {
   "display_name": "Python 3",
   "language": "python",
   "name": "python3"
  },
  "language_info": {
   "codemirror_mode": {
    "name": "ipython",
    "version": 3
   },
   "file_extension": ".py",
   "mimetype": "text/x-python",
   "name": "python",
   "nbconvert_exporter": "python",
   "pygments_lexer": "ipython3",
   "version": "3.8.5"
  }
 },
 "nbformat": 4,
 "nbformat_minor": 4
}
